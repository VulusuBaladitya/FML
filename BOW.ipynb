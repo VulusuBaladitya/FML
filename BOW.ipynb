{
  "nbformat": 4,
  "nbformat_minor": 0,
  "metadata": {
    "colab": {
      "provenance": [],
      "authorship_tag": "ABX9TyPxeqYVC/YRSLblTcmVVzaX",
      "include_colab_link": true
    },
    "kernelspec": {
      "name": "python3",
      "display_name": "Python 3"
    },
    "language_info": {
      "name": "python"
    }
  },
  "cells": [
    {
      "cell_type": "markdown",
      "metadata": {
        "id": "view-in-github",
        "colab_type": "text"
      },
      "source": [
        "<a href=\"https://colab.research.google.com/github/VulusuBaladitya/FML/blob/main/BOW.ipynb\" target=\"_parent\"><img src=\"https://colab.research.google.com/assets/colab-badge.svg\" alt=\"Open In Colab\"/></a>"
      ]
    },
    {
      "cell_type": "code",
      "execution_count": 1,
      "metadata": {
        "id": "ZQrQiUpTtIoB"
      },
      "outputs": [],
      "source": [
        "import pandas as pd\n",
        "import numpy as np"
      ]
    },
    {
      "cell_type": "code",
      "source": [
        "doc1 = 'The Last of Us is an amazing tv series!'\n",
        "doc2 = 'The Last of Us is the best tv series!'\n",
        "doc3 = 'The Last of Us is so great'"
      ],
      "metadata": {
        "id": "yi9R42dOuR4f"
      },
      "execution_count": 2,
      "outputs": []
    },
    {
      "cell_type": "code",
      "source": [
        "from sklearn.feature_extraction.text import CountVectorizer\n",
        "vectorizer = CountVectorizer()\n",
        "X = vectorizer.fit_transform([doc1,doc2,doc3])\n",
        "#print(X)\n",
        "print(vectorizer.get_feature_names_out())"
      ],
      "metadata": {
        "colab": {
          "base_uri": "https://localhost:8080/"
        },
        "id": "N3yhMaqsue7V",
        "outputId": "6691c3c4-5137-4db7-8d07-1ff1d573d65c"
      },
      "execution_count": 3,
      "outputs": [
        {
          "output_type": "stream",
          "name": "stdout",
          "text": [
            "['amazing' 'an' 'best' 'great' 'is' 'last' 'of' 'series' 'so' 'the' 'tv'\n",
            " 'us']\n"
          ]
        }
      ]
    },
    {
      "cell_type": "code",
      "source": [
        "df_bow_sklearn = pd.DataFrame(X.toarray(),columns=vectorizer.get_feature_names_out())\n",
        "print(df_bow_sklearn.head())"
      ],
      "metadata": {
        "colab": {
          "base_uri": "https://localhost:8080/"
        },
        "id": "S5jeNjZhuiwt",
        "outputId": "b317490c-6fd8-4346-95ff-c00883d2a222"
      },
      "execution_count": 4,
      "outputs": [
        {
          "output_type": "stream",
          "name": "stdout",
          "text": [
            "   amazing  an  best  great  is  last  of  series  so  the  tv  us\n",
            "0        1   1     0      0   1     1   1       1   0    1   1   1\n",
            "1        0   0     1      0   1     1   1       1   0    2   1   1\n",
            "2        0   0     0      1   1     1   1       0   1    1   0   1\n"
          ]
        }
      ]
    },
    {
      "cell_type": "code",
      "source": [],
      "metadata": {
        "id": "5OhC9p5Auoet"
      },
      "execution_count": null,
      "outputs": []
    }
  ]
}